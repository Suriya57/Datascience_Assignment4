{
 "cells": [
  {
   "cell_type": "code",
   "execution_count": 13,
   "metadata": {
    "collapsed": true
   },
   "outputs": [],
   "source": [
    "#Area of triangle using class concept\n",
    "class triangle(object):\n",
    "    def __init__(self):\n",
    "        self.sideA = float(input(\"Enter side A : \"))\n",
    "        self.sideB = float(input(\"Enter side B : \"))\n",
    "        self.sideC = float(input(\"Enter side C : \"))\n",
    "        \n",
    "class calculate_area(triangle):\n",
    "    def __init__(self):\n",
    "        triangle.__init__(self)\n",
    "                        \n",
    "    def area(self):\n",
    "        semi_perimeter = (self.sideA+self.sideB+self.sideC)/2\n",
    "        area = (semi_perimeter*(semi_perimeter-self.sideA)*(semi_perimeter-self.sideB)*(semi_perimeter-self.sideC))**0.5\n",
    "        return (\"The area of triangle is : {} sq cms\".format(round(area,2)))"
   ]
  },
  {
   "cell_type": "code",
   "execution_count": 14,
   "metadata": {},
   "outputs": [
    {
     "name": "stdout",
     "output_type": "stream",
     "text": [
      "Enter side A : 12\n",
      "Enter side B : 13\n",
      "Enter side C : 14\n"
     ]
    },
    {
     "data": {
      "text/plain": [
       "'The area of triangle is : 72.31 sq cms'"
      ]
     },
     "execution_count": 14,
     "metadata": {},
     "output_type": "execute_result"
    }
   ],
   "source": [
    "area = calculate_area()\n",
    "area.area()"
   ]
  },
  {
   "cell_type": "code",
   "execution_count": 62,
   "metadata": {},
   "outputs": [],
   "source": [
    "#Filter words that are longer than the given length\n",
    "class base_class(object):\n",
    "    def __init__(self):\n",
    "        self.length = int(input(\"Enter the length : \"))\n",
    "        self.word_list = input(\"Enter the list of words : \").split(',')\n",
    "\n",
    "class word(base_class):\n",
    "    def __init__(self):\n",
    "        base_class.__init__(self)\n",
    "    \n",
    "    def filter_long_words(self):\n",
    "        return [word for word in self.word_list if len(word) > self.length]\n",
    "       "
   ]
  },
  {
   "cell_type": "code",
   "execution_count": 63,
   "metadata": {},
   "outputs": [
    {
     "name": "stdout",
     "output_type": "stream",
     "text": [
      "Enter the length : 3\n",
      "Enter the list of words : Suriya,Bal,Muthu\n"
     ]
    },
    {
     "data": {
      "text/plain": [
       "['Suriya', 'Muthu']"
      ]
     },
     "execution_count": 63,
     "metadata": {},
     "output_type": "execute_result"
    }
   ],
   "source": [
    "word = word()\n",
    "word.filter_long_words()"
   ]
  },
  {
   "cell_type": "code",
   "execution_count": 72,
   "metadata": {},
   "outputs": [
    {
     "data": {
      "text/plain": [
       "[6, 5]"
      ]
     },
     "execution_count": 72,
     "metadata": {},
     "output_type": "execute_result"
    }
   ],
   "source": [
    "# Function to map list of words to list of its lengths\n",
    "def map_to_lengths_map(words):\n",
    "    return list(map(len, words))\n",
    "\n",
    "map_to_lengths_map(['Suriya','Muthu'])"
   ]
  },
  {
   "cell_type": "code",
   "execution_count": 79,
   "metadata": {},
   "outputs": [
    {
     "data": {
      "text/plain": [
       "False"
      ]
     },
     "execution_count": 79,
     "metadata": {},
     "output_type": "execute_result"
    }
   ],
   "source": [
    "# Function to check whether a given character is vowel or not\n",
    "def VowelCheck(char):\n",
    "    lower_char = char.lower()\n",
    "    return lower_char in 'aeiou'\n",
    "    \n",
    "VowelCheck('b')"
   ]
  }
 ],
 "metadata": {
  "kernelspec": {
   "display_name": "Python 3",
   "language": "python",
   "name": "python3"
  },
  "language_info": {
   "codemirror_mode": {
    "name": "ipython",
    "version": 3
   },
   "file_extension": ".py",
   "mimetype": "text/x-python",
   "name": "python",
   "nbconvert_exporter": "python",
   "pygments_lexer": "ipython3",
   "version": "3.6.1"
  }
 },
 "nbformat": 4,
 "nbformat_minor": 2
}
